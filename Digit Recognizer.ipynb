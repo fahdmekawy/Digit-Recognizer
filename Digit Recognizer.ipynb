{
 "cells": [
  {
   "cell_type": "code",
   "execution_count": 20,
   "metadata": {},
   "outputs": [],
   "source": [
    "# Import Libraries\n",
    "\n",
    "import pandas as pd\n",
    "import numpy as np\n",
    "import matplotlib.pyplot as plt\n",
    "import seaborn as sns\n",
    "%matplotlib inline\n",
    "import tensorflow as tf\n",
    "sns.set(style='white')"
   ]
  },
  {
   "cell_type": "code",
   "execution_count": 21,
   "metadata": {},
   "outputs": [
    {
     "data": {
      "text/plain": [
       "(42000, 785)"
      ]
     },
     "execution_count": 21,
     "metadata": {},
     "output_type": "execute_result"
    }
   ],
   "source": [
    "# Load data\n",
    "train = pd.read_csv(\"/home/mekawy/Documents/Machine Learning/Datasets/digit-recognizer/train.csv\")\n",
    "test = pd.read_csv(\"/home/mekawy/Documents/Machine Learning/Datasets/digit-recognizer/test.csv\")\n",
    "train.shape"
   ]
  },
  {
   "cell_type": "code",
   "execution_count": 22,
   "metadata": {},
   "outputs": [
    {
     "data": {
      "text/plain": [
       "1    4684\n",
       "7    4401\n",
       "3    4351\n",
       "9    4188\n",
       "2    4177\n",
       "6    4137\n",
       "0    4132\n",
       "4    4072\n",
       "8    4063\n",
       "5    3795\n",
       "Name: label, dtype: int64"
      ]
     },
     "execution_count": 22,
     "metadata": {},
     "output_type": "execute_result"
    },
    {
     "data": {
      "image/png": "[encoded data removed]",
      "text/plain": [
       "<Figure size 432x288 with 1 Axes>"
      ]
     },
     "metadata": {},
     "output_type": "display_data"
    }
   ],
   "source": [
    "y_train = train['label']\n",
    "X_train = train.drop(labels=['label'], axis= 1)\n",
    "# free space from memory\n",
    "del train\n",
    "g = sns.countplot(y_train)\n",
    "y_train.value_counts()"
   ]
  },
  {
   "cell_type": "code",
   "execution_count": 23,
   "metadata": {},
   "outputs": [
    {
     "data": {
      "text/plain": [
       "count       784\n",
       "unique        1\n",
       "top       False\n",
       "freq        784\n",
       "dtype: object"
      ]
     },
     "execution_count": 23,
     "metadata": {},
     "output_type": "execute_result"
    }
   ],
   "source": [
    "# Check Null Values\n",
    "X_train.isnull().any().describe()\n",
    "# There's no null values in X_train dataset\n",
    "test.isnull().any().describe()\n",
    "# There's no null values in Test dataset"
   ]
  },
  {
   "cell_type": "code",
   "execution_count": 24,
   "metadata": {},
   "outputs": [],
   "source": [
    "# Normalization\n",
    "X_train = X_train / 255.0\n",
    "test = test / 255.0"
   ]
  },
  {
   "cell_type": "code",
   "execution_count": 25,
   "metadata": {},
   "outputs": [],
   "source": [
    "# Reshape The data in 3 dimenstions ( H = 28  , W = 28 , canal = 1)\n",
    "X_train = X_train.values.reshape(-1,28,28,1)\n",
    "test = test.values.reshape(-1,28,28,1)"
   ]
  },
  {
   "cell_type": "code",
   "execution_count": 26,
   "metadata": {},
   "outputs": [],
   "source": [
    "# Encode labels to one hot vectors (ex : 2 -> [0,0,1,0,0,0,0,0,0,0])\n",
    "from keras.utils.np_utils import to_categorical # convert to one-hot-encoding\n",
    "y_train = to_categorical(y_train,num_classes=10)"
   ]
  },
  {
   "cell_type": "code",
   "execution_count": 27,
   "metadata": {},
   "outputs": [],
   "source": [
    "# Splitting data into training and validation\n",
    "from sklearn.model_selection import train_test_split\n",
    "random_seed = 2\n",
    "X_train, X_val, y_train, y_val = train_test_split(X_train, y_train, test_size = 0.1, random_state=random_seed)"
   ]
  },
  {
   "cell_type": "code",
   "execution_count": 28,
   "metadata": {},
   "outputs": [
    {
     "data": {
      "image/png": "[encoded data removed]",
      "text/plain": [
       "<Figure size 432x288 with 1 Axes>"
      ]
     },
     "metadata": {},
     "output_type": "display_data"
    }
   ],
   "source": [
    "g = plt.imshow(X_train[20][:,:,0])"
   ]
  },
  {
   "cell_type": "code",
   "execution_count": 29,
   "metadata": {},
   "outputs": [
    {
     "name": "stdout",
     "output_type": "stream",
     "text": [
      "Model: \"sequential_2\"\n",
      "_________________________________________________________________\n",
      "Layer (type)                 Output Shape              Param #   \n",
      "=================================================================\n",
      "conv2d_5 (Conv2D)            (None, 28, 28, 32)        832       \n",
      "_________________________________________________________________\n",
      "conv2d_6 (Conv2D)            (None, 28, 28, 32)        25632     \n",
      "_________________________________________________________________\n",
      "max_pooling2d_3 (MaxPooling2 (None, 14, 14, 32)        0         \n",
      "_________________________________________________________________\n",
      "dropout_4 (Dropout)          (None, 14, 14, 32)        0         \n",
      "_________________________________________________________________\n",
      "conv2d_7 (Conv2D)            (None, 14, 14, 64)        18496     \n",
      "_________________________________________________________________\n",
      "conv2d_8 (Conv2D)            (None, 14, 14, 64)        36928     \n",
      "_________________________________________________________________\n",
      "max_pooling2d_4 (MaxPooling2 (None, 7, 7, 64)          0         \n",
      "_________________________________________________________________\n",
      "dropout_5 (Dropout)          (None, 7, 7, 64)          0         \n",
      "_________________________________________________________________\n",
      "flatten_2 (Flatten)          (None, 3136)              0         \n",
      "_________________________________________________________________\n",
      "dense_3 (Dense)              (None, 256)               803072    \n",
      "_________________________________________________________________\n",
      "dropout_6 (Dropout)          (None, 256)               0         \n",
      "_________________________________________________________________\n",
      "dense_4 (Dense)              (None, 10)                2570      \n",
      "=================================================================\n",
      "Total params: 887,530\n",
      "Trainable params: 887,530\n",
      "Non-trainable params: 0\n",
      "_________________________________________________________________\n"
     ]
    }
   ],
   "source": [
    "# Building model \n",
    "from keras.models import Sequential\n",
    "from keras.layers import Dense, Dropout, Flatten, Conv2D, MaxPool2D\n",
    "model = Sequential()\n",
    "model.add(Conv2D(32,kernel_size =(5,5),padding = 'same',activation ='relu', input_shape = (28,28,1)))\n",
    "model.add(Conv2D(32,kernel_size =(5,5),padding = 'same',activation ='relu'))\n",
    "model.add(MaxPool2D(pool_size=(2,2)))\n",
    "model.add(Dropout(0.25))\n",
    "\n",
    "model.add(Conv2D(filters = 64, kernel_size = (3,3),padding = 'Same', activation ='relu'))\n",
    "model.add(Conv2D(filters = 64, kernel_size = (3,3),padding = 'Same', activation ='relu'))\n",
    "model.add(MaxPool2D(pool_size=(2,2), strides=(2,2)))\n",
    "model.add(Dropout(0.25))\n",
    "\n",
    "model.add(Flatten())\n",
    "model.add(Dense(256,activation='relu'))\n",
    "model.add(Dropout(0.5))\n",
    "model.add(Dense(10,activation='softmax'))\n",
    "model.summary()"
   ]
  },
  {
   "cell_type": "code",
   "execution_count": 30,
   "metadata": {},
   "outputs": [],
   "source": [
    "from keras.optimizers import Adam ,RMSprop\n",
    "\n",
    "optimizer = Adam(learning_rate=0.001, beta_1=0.9, beta_2=0.999)\n",
    "\n",
    "model.compile(optimizer=optimizer, loss='categorical_crossentropy', metrics=['accuracy'])"
   ]
  },
  {
   "cell_type": "code",
   "execution_count": 31,
   "metadata": {},
   "outputs": [],
   "source": [
    "# Set a learning rate annealer\n",
    "from keras.callbacks import ReduceLROnPlateau\n",
    "learning_rate_reduction = ReduceLROnPlateau(monitor='val_acc', \n",
    "                                            patience=3, \n",
    "                                            verbose=1, \n",
    "                                            factor=0.5, \n",
    "                                            min_lr=0.00001)"
   ]
  },
  {
   "cell_type": "code",
   "execution_count": 32,
   "metadata": {},
   "outputs": [],
   "source": [
    "epochs = 30\n",
    "batch_size = 86"
   ]
  },
  {
   "cell_type": "code",
   "execution_count": 33,
   "metadata": {},
   "outputs": [
    {
     "name": "stdout",
     "output_type": "stream",
     "text": [
      "WARNING:tensorflow:From /home/mekawy/.local/lib/python3.7/site-packages/keras/backend/tensorflow_backend.py:422: The name tf.global_variables is deprecated. Please use tf.compat.v1.global_variables instead.\n",
      "\n",
      "Train on 37800 samples, validate on 4200 samples\n",
      "Epoch 1/30\n",
      " - 191s - loss: 0.2545 - accuracy: 0.9190 - val_loss: 0.0741 - val_accuracy: 0.9762\n",
      "Epoch 2/30\n",
      " - 183s - loss: 0.0799 - accuracy: 0.9754 - val_loss: 0.0490 - val_accuracy: 0.9852\n",
      "Epoch 3/30\n",
      " - 183s - loss: 0.0545 - accuracy: 0.9832 - val_loss: 0.0427 - val_accuracy: 0.9869\n",
      "Epoch 4/30\n",
      " - 183s - loss: 0.0483 - accuracy: 0.9858 - val_loss: 0.0383 - val_accuracy: 0.9881\n",
      "Epoch 5/30\n",
      " - 183s - loss: 0.0383 - accuracy: 0.9881 - val_loss: 0.0438 - val_accuracy: 0.9886\n",
      "Epoch 6/30\n",
      " - 183s - loss: 0.0380 - accuracy: 0.9881 - val_loss: 0.0321 - val_accuracy: 0.9912\n",
      "Epoch 7/30\n",
      " - 183s - loss: 0.0331 - accuracy: 0.9897 - val_loss: 0.0289 - val_accuracy: 0.9919\n",
      "Epoch 8/30\n",
      " - 183s - loss: 0.0282 - accuracy: 0.9911 - val_loss: 0.0350 - val_accuracy: 0.9919\n",
      "Epoch 9/30\n",
      " - 183s - loss: 0.0256 - accuracy: 0.9912 - val_loss: 0.0278 - val_accuracy: 0.9936\n",
      "Epoch 10/30\n",
      " - 183s - loss: 0.0239 - accuracy: 0.9925 - val_loss: 0.0268 - val_accuracy: 0.9924\n",
      "Epoch 11/30\n",
      " - 183s - loss: 0.0235 - accuracy: 0.9919 - val_loss: 0.0305 - val_accuracy: 0.9933\n",
      "Epoch 12/30\n",
      " - 182s - loss: 0.0200 - accuracy: 0.9939 - val_loss: 0.0296 - val_accuracy: 0.9921\n",
      "Epoch 13/30\n",
      " - 183s - loss: 0.0193 - accuracy: 0.9937 - val_loss: 0.0336 - val_accuracy: 0.9933\n",
      "Epoch 14/30\n",
      " - 183s - loss: 0.0191 - accuracy: 0.9938 - val_loss: 0.0320 - val_accuracy: 0.9924\n",
      "Epoch 15/30\n",
      " - 183s - loss: 0.0195 - accuracy: 0.9941 - val_loss: 0.0268 - val_accuracy: 0.9929\n",
      "Epoch 16/30\n",
      " - 183s - loss: 0.0168 - accuracy: 0.9944 - val_loss: 0.0330 - val_accuracy: 0.9931\n",
      "Epoch 17/30\n",
      " - 183s - loss: 0.0153 - accuracy: 0.9948 - val_loss: 0.0421 - val_accuracy: 0.9926\n",
      "Epoch 18/30\n",
      " - 183s - loss: 0.0147 - accuracy: 0.9949 - val_loss: 0.0347 - val_accuracy: 0.9926\n",
      "Epoch 19/30\n",
      " - 183s - loss: 0.0136 - accuracy: 0.9958 - val_loss: 0.0301 - val_accuracy: 0.9931\n",
      "Epoch 20/30\n",
      " - 183s - loss: 0.0142 - accuracy: 0.9955 - val_loss: 0.0300 - val_accuracy: 0.9931\n",
      "Epoch 21/30\n",
      " - 182s - loss: 0.0128 - accuracy: 0.9958 - val_loss: 0.0368 - val_accuracy: 0.9933\n",
      "Epoch 22/30\n",
      " - 183s - loss: 0.0112 - accuracy: 0.9961 - val_loss: 0.0350 - val_accuracy: 0.9936\n",
      "Epoch 23/30\n",
      " - 183s - loss: 0.0130 - accuracy: 0.9956 - val_loss: 0.0350 - val_accuracy: 0.9924\n",
      "Epoch 24/30\n",
      " - 183s - loss: 0.0094 - accuracy: 0.9967 - val_loss: 0.0347 - val_accuracy: 0.9940\n",
      "Epoch 25/30\n",
      " - 183s - loss: 0.0127 - accuracy: 0.9960 - val_loss: 0.0339 - val_accuracy: 0.9950\n",
      "Epoch 26/30\n",
      " - 182s - loss: 0.0111 - accuracy: 0.9962 - val_loss: 0.0311 - val_accuracy: 0.9938\n",
      "Epoch 27/30\n",
      " - 182s - loss: 0.0133 - accuracy: 0.9961 - val_loss: 0.0331 - val_accuracy: 0.9933\n",
      "Epoch 28/30\n",
      " - 183s - loss: 0.0131 - accuracy: 0.9958 - val_loss: 0.0309 - val_accuracy: 0.9936\n",
      "Epoch 29/30\n",
      " - 183s - loss: 0.0091 - accuracy: 0.9974 - val_loss: 0.0325 - val_accuracy: 0.9943\n",
      "Epoch 30/30\n",
      " - 183s - loss: 0.0110 - accuracy: 0.9966 - val_loss: 0.0431 - val_accuracy: 0.9924\n"
     ]
    }
   ],
   "source": [
    "# Without data augmentation\n",
    "history = model.fit(X_train, y_train, batch_size = batch_size, epochs = epochs, \n",
    "         validation_data = (X_val, y_val), verbose = 2)"
   ]
  },
  {
   "cell_type": "code",
   "execution_count": 34,
   "metadata": {},
   "outputs": [],
   "source": [
    "# Data Augmentation\n",
    "from keras.preprocessing.image import ImageDataGenerator\n",
    "\n",
    "datagen = ImageDataGenerator(rotation_range=10,zoom_range=0.1,width_shift_range=0.1,height_shift_range=0.1)\n",
    "\n",
    "datagen.fit(X_train)"
   ]
  },
  {
   "cell_type": "code",
   "execution_count": 35,
   "metadata": {},
   "outputs": [
    {
     "name": "stdout",
     "output_type": "stream",
     "text": [
      "Epoch 1/30\n",
      " - 187s - loss: 0.0982 - accuracy: 0.9718 - val_loss: 0.0238 - val_accuracy: 0.9945\n",
      "Epoch 2/30\n"
     ]
    },
    {
     "name": "stderr",
     "output_type": "stream",
     "text": [
      "/home/mekawy/.local/lib/python3.7/site-packages/keras/callbacks/callbacks.py:1042: RuntimeWarning: Reduce LR on plateau conditioned on metric `val_acc` which is not available. Available metrics are: val_loss,val_accuracy,loss,accuracy,lr\n",
      "  (self.monitor, ','.join(list(logs.keys()))), RuntimeWarning\n"
     ]
    },
    {
     "name": "stdout",
     "output_type": "stream",
     "text": [
      " - 186s - loss: 0.0608 - accuracy: 0.9820 - val_loss: 0.0256 - val_accuracy: 0.9931\n",
      "Epoch 3/30\n",
      " - 187s - loss: 0.0497 - accuracy: 0.9851 - val_loss: 0.0234 - val_accuracy: 0.9936\n",
      "Epoch 4/30\n",
      " - 185s - loss: 0.0486 - accuracy: 0.9851 - val_loss: 0.0220 - val_accuracy: 0.9938\n",
      "Epoch 5/30\n",
      " - 185s - loss: 0.0450 - accuracy: 0.9870 - val_loss: 0.0200 - val_accuracy: 0.9945\n",
      "Epoch 6/30\n",
      " - 186s - loss: 0.0421 - accuracy: 0.9872 - val_loss: 0.0228 - val_accuracy: 0.9945\n",
      "Epoch 7/30\n",
      " - 186s - loss: 0.0401 - accuracy: 0.9883 - val_loss: 0.0191 - val_accuracy: 0.9955\n",
      "Epoch 8/30\n",
      " - 186s - loss: 0.0367 - accuracy: 0.9894 - val_loss: 0.0232 - val_accuracy: 0.9952\n",
      "Epoch 9/30\n",
      " - 186s - loss: 0.0391 - accuracy: 0.9891 - val_loss: 0.0217 - val_accuracy: 0.9940\n",
      "Epoch 10/30\n",
      " - 186s - loss: 0.0323 - accuracy: 0.9908 - val_loss: 0.0168 - val_accuracy: 0.9948\n",
      "Epoch 11/30\n",
      " - 186s - loss: 0.0356 - accuracy: 0.9889 - val_loss: 0.0179 - val_accuracy: 0.9945\n",
      "Epoch 12/30\n",
      " - 185s - loss: 0.0330 - accuracy: 0.9896 - val_loss: 0.0172 - val_accuracy: 0.9945\n",
      "Epoch 13/30\n",
      " - 186s - loss: 0.0348 - accuracy: 0.9894 - val_loss: 0.0193 - val_accuracy: 0.9943\n",
      "Epoch 14/30\n",
      " - 186s - loss: 0.0332 - accuracy: 0.9901 - val_loss: 0.0216 - val_accuracy: 0.9943\n",
      "Epoch 15/30\n",
      " - 186s - loss: 0.0295 - accuracy: 0.9911 - val_loss: 0.0191 - val_accuracy: 0.9936\n",
      "Epoch 16/30\n",
      " - 185s - loss: 0.0318 - accuracy: 0.9907 - val_loss: 0.0185 - val_accuracy: 0.9940\n",
      "Epoch 17/30\n",
      " - 185s - loss: 0.0333 - accuracy: 0.9901 - val_loss: 0.0202 - val_accuracy: 0.9955\n",
      "Epoch 18/30\n",
      " - 186s - loss: 0.0275 - accuracy: 0.9914 - val_loss: 0.0173 - val_accuracy: 0.9952\n",
      "Epoch 19/30\n",
      " - 186s - loss: 0.0269 - accuracy: 0.9919 - val_loss: 0.0194 - val_accuracy: 0.9945\n",
      "Epoch 20/30\n",
      " - 186s - loss: 0.0303 - accuracy: 0.9911 - val_loss: 0.0219 - val_accuracy: 0.9948\n",
      "Epoch 21/30\n",
      " - 185s - loss: 0.0288 - accuracy: 0.9918 - val_loss: 0.0215 - val_accuracy: 0.9945\n",
      "Epoch 22/30\n",
      " - 185s - loss: 0.0298 - accuracy: 0.9907 - val_loss: 0.0162 - val_accuracy: 0.9955\n",
      "Epoch 23/30\n",
      " - 186s - loss: 0.0283 - accuracy: 0.9916 - val_loss: 0.0175 - val_accuracy: 0.9960\n",
      "Epoch 24/30\n",
      " - 185s - loss: 0.0290 - accuracy: 0.9914 - val_loss: 0.0202 - val_accuracy: 0.9955\n",
      "Epoch 25/30\n",
      " - 185s - loss: 0.0279 - accuracy: 0.9918 - val_loss: 0.0193 - val_accuracy: 0.9948\n",
      "Epoch 26/30\n",
      " - 186s - loss: 0.0267 - accuracy: 0.9918 - val_loss: 0.0188 - val_accuracy: 0.9940\n",
      "Epoch 27/30\n",
      " - 186s - loss: 0.0269 - accuracy: 0.9920 - val_loss: 0.0194 - val_accuracy: 0.9948\n",
      "Epoch 28/30\n",
      " - 186s - loss: 0.0291 - accuracy: 0.9915 - val_loss: 0.0168 - val_accuracy: 0.9948\n",
      "Epoch 29/30\n",
      " - 186s - loss: 0.0272 - accuracy: 0.9916 - val_loss: 0.0214 - val_accuracy: 0.9950\n",
      "Epoch 30/30\n",
      " - 186s - loss: 0.0230 - accuracy: 0.9931 - val_loss: 0.0197 - val_accuracy: 0.9952\n"
     ]
    }
   ],
   "source": [
    "# Fit the model after augmentation\n",
    "history = model.fit_generator(datagen.flow(X_train,y_train,batch_size=batch_size),\n",
    "                              epochs=epochs,\n",
    "                              validation_data=(X_val,y_val),\n",
    "                              verbose=2,\n",
    "                              steps_per_epoch=X_train.shape[0]//batch_size,\n",
    "                              callbacks=[learning_rate_reduction]\n",
    "                             )"
   ]
  },
  {
   "cell_type": "code",
   "execution_count": 36,
   "metadata": {},
   "outputs": [],
   "source": [
    "from keras.models import save_model\n",
    "model.save('modell.h5')\n"
   ]
  },
  {
   "cell_type": "code",
   "execution_count": 46,
   "metadata": {},
   "outputs": [
    {
     "data": {
      "image/png": "[encoded data removed]",
      "text/plain": [
       "<Figure size 432x288 with 2 Axes>"
      ]
     },
     "metadata": {},
     "output_type": "display_data"
    }
   ],
   "source": [
    "# Evaluate Model ( Training and validation Curves)\n",
    "\n",
    "fig, ax = plt.subplots(2,1)\n",
    "ax[0].plot(history.history['loss'], color='b', label=\"Training loss\")\n",
    "ax[0].plot(history.history['val_loss'], color='r', label=\"validation loss\",axes =ax[0])\n",
    "legend = ax[0].legend()\n",
    "\n",
    "ax[1].plot(history.history['accuracy'], color='b', label=\"Training accuracy\")\n",
    "ax[1].plot(history.history['val_accuracy'], color='r',label=\"Validation accuracy\")\n",
    "legend = ax[1].legend()"
   ]
  },
  {
   "cell_type": "code",
   "execution_count": 50,
   "metadata": {},
   "outputs": [
    {
     "data": {
      "image/png": "[encoded data removed]",
      "text/plain": [
       "<Figure size 432x288 with 2 Axes>"
      ]
     },
     "metadata": {},
     "output_type": "display_data"
    }
   ],
   "source": [
    "# Confusion Matrix to show the drewbacks\n",
    "from sklearn.metrics import confusion_matrix\n",
    "import itertools\n",
    "\n",
    "def plot_confusion_matrix(cm, classes,\n",
    "                          normalize=False,\n",
    "                          title='Confusion matrix',\n",
    "                          cmap=plt.cm.Blues):\n",
    "    \"\"\"\n",
    "    This function prints and plots the confusion matrix.\n",
    "    Normalization can be applied by setting `normalize=True`.\n",
    "    \"\"\"\n",
    "    plt.imshow(cm, interpolation='nearest', cmap=cmap)\n",
    "    plt.title(title)\n",
    "    plt.colorbar()\n",
    "    tick_marks = np.arange(len(classes))\n",
    "    plt.xticks(tick_marks, classes, rotation=45)\n",
    "    plt.yticks(tick_marks, classes)\n",
    "\n",
    "    if normalize:\n",
    "        cm = cm.astype('float') / cm.sum(axis=1)[:, np.newaxis]\n",
    "\n",
    "    thresh = cm.max() / 2.\n",
    "    for i, j in itertools.product(range(cm.shape[0]), range(cm.shape[1])):\n",
    "        plt.text(j, i, cm[i, j],\n",
    "                 horizontalalignment=\"center\",\n",
    "                 color=\"white\" if cm[i, j] > thresh else \"black\")\n",
    "\n",
    "    plt.tight_layout()\n",
    "    plt.ylabel('True label')\n",
    "    plt.xlabel('Predicted label')\n",
    "\n",
    "# Predict the values from the validation dataset\n",
    "Y_pred = model.predict(X_val)\n",
    "# Convert predictions classes to one hot vectors \n",
    "Y_pred_classes = np.argmax(Y_pred,axis = 1) \n",
    "# Convert validation observations to one hot vectors\n",
    "Y_true = np.argmax(y_val,axis = 1) \n",
    "# compute the confusion matrix\n",
    "confusion_mtx = confusion_matrix(Y_true, Y_pred_classes) \n",
    "# plot the confusion matrix\n",
    "plot_confusion_matrix(confusion_mtx, classes = range(10)) "
   ]
  },
  {
   "cell_type": "code",
   "execution_count": 51,
   "metadata": {},
   "outputs": [
    {
     "data": {
      "image/png": "[encoded data removed]",
      "text/plain": [
       "<Figure size 432x288 with 6 Axes>"
      ]
     },
     "metadata": {},
     "output_type": "display_data"
    }
   ],
   "source": [
    "# Display some error results \n",
    "\n",
    "# Errors are difference between predicted labels and true labels\n",
    "errors = (Y_pred_classes - Y_true != 0)\n",
    "\n",
    "Y_pred_classes_errors = Y_pred_classes[errors]\n",
    "Y_pred_errors = Y_pred[errors]\n",
    "Y_true_errors = Y_true[errors]\n",
    "X_val_errors = X_val[errors]\n",
    "\n",
    "def display_errors(errors_index,img_errors,pred_errors, obs_errors):\n",
    "    \"\"\" This function shows 6 images with their predicted and real labels\"\"\"\n",
    "    n = 0\n",
    "    nrows = 2\n",
    "    ncols = 3\n",
    "    fig, ax = plt.subplots(nrows,ncols,sharex=True,sharey=True)\n",
    "    for row in range(nrows):\n",
    "        for col in range(ncols):\n",
    "            error = errors_index[n]\n",
    "            ax[row,col].imshow((img_errors[error]).reshape((28,28)))\n",
    "            ax[row,col].set_title(\"Predicted label :{}\\nTrue label :{}\".format(pred_errors[error],obs_errors[error]))\n",
    "            n += 1\n",
    "            \n",
    "# Probabilities of the wrong predicted numbers\n",
    "Y_pred_errors_prob = np.max(Y_pred_errors,axis = 1)\n",
    "\n",
    "# Predicted probabilities of the true values in the error set\n",
    "true_prob_errors = np.diagonal(np.take(Y_pred_errors, Y_true_errors, axis=1))\n",
    "\n",
    "# Difference between the probability of the predicted label and the true label\n",
    "delta_pred_true_errors = Y_pred_errors_prob - true_prob_errors\n",
    "\n",
    "# Sorted list of the delta prob errors\n",
    "sorted_dela_errors = np.argsort(delta_pred_true_errors)\n",
    "\n",
    "# Top 6 errors \n",
    "most_important_errors = sorted_dela_errors[-6:]\n",
    "\n",
    "# Show the top 6 errors\n",
    "display_errors(most_important_errors, X_val_errors, Y_pred_classes_errors, Y_true_errors)"
   ]
  },
  {
   "cell_type": "code",
   "execution_count": 52,
   "metadata": {},
   "outputs": [],
   "source": [
    "# predict results\n",
    "results = model.predict(test)\n",
    "\n",
    "# select the indix with the maximum probability\n",
    "results = np.argmax(results,axis = 1)\n",
    "\n",
    "results = pd.Series(results,name=\"Label\")"
   ]
  },
  {
   "cell_type": "code",
   "execution_count": null,
   "metadata": {},
   "outputs": [],
   "source": []
  },
  {
   "cell_type": "code",
   "execution_count": null,
   "metadata": {},
   "outputs": [],
   "source": []
  }
 ],
 "metadata": {
  "kernelspec": {
   "display_name": "Python 3",
   "language": "python",
   "name": "python3"
  },
  "language_info": {
   "codemirror_mode": {
    "name": "ipython",
    "version": 3
   },
   "file_extension": ".py",
   "mimetype": "text/x-python",
   "name": "python",
   "nbconvert_exporter": "python",
   "pygments_lexer": "ipython3",
   "version": "3.7.3"
  }
 },
 "nbformat": 4,
 "nbformat_minor": 2
}
